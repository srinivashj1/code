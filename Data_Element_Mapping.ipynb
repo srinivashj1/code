{
 "cells": [
  {
   "cell_type": "code",
   "execution_count": null,
   "id": "a96b4bd2",
   "metadata": {},
   "outputs": [
    {
     "ename": "ValueError",
     "evalue": "Excel file format cannot be determined, you must specify an engine manually.",
     "output_type": "error",
     "traceback": [
      "\u001b[31m---------------------------------------------------------------------------\u001b[39m",
      "\u001b[31mValueError\u001b[39m                                Traceback (most recent call last)",
      "\u001b[36mCell\u001b[39m\u001b[36m \u001b[39m\u001b[32mIn[1]\u001b[39m\u001b[32m, line 26\u001b[39m\n\u001b[32m     24\u001b[39m CRM_COL = \u001b[33m\"\u001b[39m\u001b[33mCRM\u001b[39m\u001b[33m\"\u001b[39m\n\u001b[32m     25\u001b[39m S4_COL = \u001b[33m\"\u001b[39m\u001b[33mS4\u001b[39m\u001b[33m\"\u001b[39m\n\u001b[32m---> \u001b[39m\u001b[32m26\u001b[39m mapping = \u001b[43mload_mapping\u001b[49m\u001b[43m(\u001b[49m\u001b[43mEXCEL_URL\u001b[49m\u001b[43m,\u001b[49m\u001b[43m \u001b[49m\u001b[43mSHEET\u001b[49m\u001b[43m,\u001b[49m\u001b[43m \u001b[49m\u001b[43mCRM_COL\u001b[49m\u001b[43m,\u001b[49m\u001b[43m \u001b[49m\u001b[43mS4_COL\u001b[49m\u001b[43m)\u001b[49m\n\u001b[32m     27\u001b[39m source = \u001b[33m\"\u001b[39m\u001b[33m/BI0/OITCTTMESTEP\u001b[39m\u001b[33m\"\u001b[39m\n\u001b[32m     28\u001b[39m result = transform_token(source, mapping)\n",
      "\u001b[36mCell\u001b[39m\u001b[36m \u001b[39m\u001b[32mIn[1]\u001b[39m\u001b[32m, line 8\u001b[39m, in \u001b[36mload_mapping\u001b[39m\u001b[34m(url, sheet, crm_col, s4_col)\u001b[39m\n\u001b[32m      6\u001b[39m r = requests.get(url, timeout=\u001b[32m30\u001b[39m)\n\u001b[32m      7\u001b[39m r.raise_for_status()\n\u001b[32m----> \u001b[39m\u001b[32m8\u001b[39m df = \u001b[43mpd\u001b[49m\u001b[43m.\u001b[49m\u001b[43mread_excel\u001b[49m\u001b[43m(\u001b[49m\u001b[43mio\u001b[49m\u001b[43m.\u001b[49m\u001b[43mBytesIO\u001b[49m\u001b[43m(\u001b[49m\u001b[43mr\u001b[49m\u001b[43m.\u001b[49m\u001b[43mcontent\u001b[49m\u001b[43m)\u001b[49m\u001b[43m,\u001b[49m\u001b[43m \u001b[49m\u001b[43msheet_name\u001b[49m\u001b[43m=\u001b[49m\u001b[43msheet\u001b[49m\u001b[43m)\u001b[49m\n\u001b[32m      9\u001b[39m df = df.dropna(subset=[crm_col, s4_col])\n\u001b[32m     10\u001b[39m \u001b[38;5;28;01mreturn\u001b[39;00m {\n\u001b[32m     11\u001b[39m     \u001b[38;5;28mstr\u001b[39m(crm).strip().upper(): \u001b[38;5;28mstr\u001b[39m(s4).strip()\n\u001b[32m     12\u001b[39m     \u001b[38;5;28;01mfor\u001b[39;00m crm, s4 \u001b[38;5;129;01min\u001b[39;00m \u001b[38;5;28mzip\u001b[39m(df[crm_col], df[s4_col])\n\u001b[32m     13\u001b[39m     \u001b[38;5;28;01mif\u001b[39;00m \u001b[38;5;28mstr\u001b[39m(crm).strip() \u001b[38;5;129;01mand\u001b[39;00m \u001b[38;5;28mstr\u001b[39m(s4).strip()\n\u001b[32m     14\u001b[39m }\n",
      "\u001b[36mFile \u001b[39m\u001b[32mc:\\Users\\I351355\\AppData\\Local\\Programs\\Python\\Python313\\Lib\\site-packages\\pandas\\io\\excel\\_base.py:495\u001b[39m, in \u001b[36mread_excel\u001b[39m\u001b[34m(io, sheet_name, header, names, index_col, usecols, dtype, engine, converters, true_values, false_values, skiprows, nrows, na_values, keep_default_na, na_filter, verbose, parse_dates, date_parser, date_format, thousands, decimal, comment, skipfooter, storage_options, dtype_backend, engine_kwargs)\u001b[39m\n\u001b[32m    493\u001b[39m \u001b[38;5;28;01mif\u001b[39;00m \u001b[38;5;129;01mnot\u001b[39;00m \u001b[38;5;28misinstance\u001b[39m(io, ExcelFile):\n\u001b[32m    494\u001b[39m     should_close = \u001b[38;5;28;01mTrue\u001b[39;00m\n\u001b[32m--> \u001b[39m\u001b[32m495\u001b[39m     io = \u001b[43mExcelFile\u001b[49m\u001b[43m(\u001b[49m\n\u001b[32m    496\u001b[39m \u001b[43m        \u001b[49m\u001b[43mio\u001b[49m\u001b[43m,\u001b[49m\n\u001b[32m    497\u001b[39m \u001b[43m        \u001b[49m\u001b[43mstorage_options\u001b[49m\u001b[43m=\u001b[49m\u001b[43mstorage_options\u001b[49m\u001b[43m,\u001b[49m\n\u001b[32m    498\u001b[39m \u001b[43m        \u001b[49m\u001b[43mengine\u001b[49m\u001b[43m=\u001b[49m\u001b[43mengine\u001b[49m\u001b[43m,\u001b[49m\n\u001b[32m    499\u001b[39m \u001b[43m        \u001b[49m\u001b[43mengine_kwargs\u001b[49m\u001b[43m=\u001b[49m\u001b[43mengine_kwargs\u001b[49m\u001b[43m,\u001b[49m\n\u001b[32m    500\u001b[39m \u001b[43m    \u001b[49m\u001b[43m)\u001b[49m\n\u001b[32m    501\u001b[39m \u001b[38;5;28;01melif\u001b[39;00m engine \u001b[38;5;129;01mand\u001b[39;00m engine != io.engine:\n\u001b[32m    502\u001b[39m     \u001b[38;5;28;01mraise\u001b[39;00m \u001b[38;5;167;01mValueError\u001b[39;00m(\n\u001b[32m    503\u001b[39m         \u001b[33m\"\u001b[39m\u001b[33mEngine should not be specified when passing \u001b[39m\u001b[33m\"\u001b[39m\n\u001b[32m    504\u001b[39m         \u001b[33m\"\u001b[39m\u001b[33man ExcelFile - ExcelFile already has the engine set\u001b[39m\u001b[33m\"\u001b[39m\n\u001b[32m    505\u001b[39m     )\n",
      "\u001b[36mFile \u001b[39m\u001b[32mc:\\Users\\I351355\\AppData\\Local\\Programs\\Python\\Python313\\Lib\\site-packages\\pandas\\io\\excel\\_base.py:1554\u001b[39m, in \u001b[36mExcelFile.__init__\u001b[39m\u001b[34m(self, path_or_buffer, engine, storage_options, engine_kwargs)\u001b[39m\n\u001b[32m   1550\u001b[39m     ext = inspect_excel_format(\n\u001b[32m   1551\u001b[39m         content_or_path=path_or_buffer, storage_options=storage_options\n\u001b[32m   1552\u001b[39m     )\n\u001b[32m   1553\u001b[39m     \u001b[38;5;28;01mif\u001b[39;00m ext \u001b[38;5;129;01mis\u001b[39;00m \u001b[38;5;28;01mNone\u001b[39;00m:\n\u001b[32m-> \u001b[39m\u001b[32m1554\u001b[39m         \u001b[38;5;28;01mraise\u001b[39;00m \u001b[38;5;167;01mValueError\u001b[39;00m(\n\u001b[32m   1555\u001b[39m             \u001b[33m\"\u001b[39m\u001b[33mExcel file format cannot be determined, you must specify \u001b[39m\u001b[33m\"\u001b[39m\n\u001b[32m   1556\u001b[39m             \u001b[33m\"\u001b[39m\u001b[33man engine manually.\u001b[39m\u001b[33m\"\u001b[39m\n\u001b[32m   1557\u001b[39m         )\n\u001b[32m   1559\u001b[39m engine = config.get_option(\u001b[33mf\u001b[39m\u001b[33m\"\u001b[39m\u001b[33mio.excel.\u001b[39m\u001b[38;5;132;01m{\u001b[39;00mext\u001b[38;5;132;01m}\u001b[39;00m\u001b[33m.reader\u001b[39m\u001b[33m\"\u001b[39m, silent=\u001b[38;5;28;01mTrue\u001b[39;00m)\n\u001b[32m   1560\u001b[39m \u001b[38;5;28;01mif\u001b[39;00m engine == \u001b[33m\"\u001b[39m\u001b[33mauto\u001b[39m\u001b[33m\"\u001b[39m:\n",
      "\u001b[31mValueError\u001b[39m: Excel file format cannot be determined, you must specify an engine manually."
     ]
    }
   ],
   "source": [
    "import io\n",
    "import pandas as pd\n",
    "import requests\n",
    "\n",
    "def load_mapping(url: str, sheet: str, crm_col: str, s4_col: str) -> dict[str, str]:\n",
    "    r = requests.get(url, timeout=30)\n",
    "    r.raise_for_status()\n",
    "    df = pd.read_excel(io.BytesIO(r.content), sheet_name=sheet)\n",
    "    df = df.dropna(subset=[crm_col, s4_col])\n",
    "    return {\n",
    "        str(crm).strip().upper(): str(s4).strip()\n",
    "        for crm, s4 in zip(df[crm_col], df[s4_col])\n",
    "        if str(crm).strip() and str(s4).strip()\n",
    "    }\n",
    "\n",
    "\n",
    "def transform_token(token: str, mapping: dict[str, str]) -> str:\n",
    "    return mapping.get(token.strip().upper(), token.strip())\n",
    "\n",
    "\n",
    "if __name__ == \"__main__\":\n",
    "    EXCEL_URL = \"https://raw.githubusercontent.com/srinivashj1/code/main/Data%20Elements%20Mapping.xlsx\"\n",
    "    SHEET = \"Data\"\n",
    "    CRM_COL = \"CRM\"\n",
    "    S4_COL = \"S4\"\n",
    "    mapping = load_mapping(EXCEL_URL, SHEET, CRM_COL, S4_COL)\n",
    "    source = \"/BI0/OITCTTMESTEP\"\n",
    "    result = transform_token(source, mapping)\n",
    "    print(\"Original   :\", source)\n",
    "    print(\"Transformed:\", result)\n"
   ]
  }
 ],
 "metadata": {
  "kernelspec": {
   "display_name": "Python 3",
   "language": "python",
   "name": "python3"
  },
  "language_info": {
   "codemirror_mode": {
    "name": "ipython",
    "version": 3
   },
   "file_extension": ".py",
   "mimetype": "text/x-python",
   "name": "python",
   "nbconvert_exporter": "python",
   "pygments_lexer": "ipython3",
   "version": "3.13.7"
  }
 },
 "nbformat": 4,
 "nbformat_minor": 5
}
