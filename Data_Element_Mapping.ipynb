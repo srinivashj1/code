{
 "cells": [
  {
   "cell_type": "code",
   "execution_count": 41,
   "id": "a96b4bd2",
   "metadata": {},
   "outputs": [
    {
     "name": "stdout",
     "output_type": "stream",
     "text": [
      "Original   : /BI0/OITCTTMESTEP\n",
      "Transformed: CRMS4_IU_PD_COMPARE_AMOUNT\n"
     ]
    }
   ],
   "source": [
    "import io\n",
    "import pandas as pd\n",
    "import requests\n",
    "\n",
    "def load_mapping(url: str, sheet: str, crm_col: str, s4_col: str) -> dict[str, str]:\n",
    "    r = requests.get(url, timeout=30)\n",
    "    r.raise_for_status()\n",
    "    df = pd.read_excel(io.BytesIO(r.content), sheet_name=sheet)\n",
    "    df = df.dropna(subset=[crm_col, s4_col])\n",
    "    return {\n",
    "        str(crm).strip().upper(): str(s4).strip()\n",
    "        for crm, s4 in zip(df[crm_col], df[s4_col])\n",
    "        if str(crm).strip() and str(s4).strip()\n",
    "    }\n",
    "\n",
    "\n",
    "def transform_token(token: str, mapping: dict[str, str]) -> str:\n",
    "    return mapping.get(token.strip().upper(), token.strip())\n",
    "\n",
    "\n",
    "if __name__ == \"__main__\":\n",
    "    EXCEL_URL = \"https://raw.githubusercontent.com/arwaz-sap/CRM_To_S4HANA/main/Data%20Elements%20Mapping.xlsx\"\n",
    "    SHEET = \"Data\"\n",
    "    CRM_COL = \"CRM\"\n",
    "    S4_COL = \"S4\"\n",
    "    mapping = load_mapping(EXCEL_URL, SHEET, CRM_COL, S4_COL)\n",
    "    source = \"/BI0/OITCTTMESTEP\"\n",
    "    result = transform_token(source, mapping)\n",
    "    print(\"Original   :\", source)\n",
    "    print(\"Transformed:\", result)\n"
   ]
  }
 ],
 "metadata": {
  "kernelspec": {
   "display_name": "env",
   "language": "python",
   "name": "python3"
  },
  "language_info": {
   "codemirror_mode": {
    "name": "ipython",
    "version": 3
   },
   "file_extension": ".py",
   "mimetype": "text/x-python",
   "name": "python",
   "nbconvert_exporter": "python",
   "pygments_lexer": "ipython3",
   "version": "3.13.7"
  }
 },
 "nbformat": 4,
 "nbformat_minor": 5
}
